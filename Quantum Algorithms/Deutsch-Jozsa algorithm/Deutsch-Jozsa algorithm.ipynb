{
 "cells": [
  {
   "cell_type": "code",
   "execution_count": 1,
   "id": "0959e837",
   "metadata": {},
   "outputs": [],
   "source": [
    "import numpy as np\n",
    "\n",
    "from qiskit import IBMQ, Aer, QuantumCircuit, assemble, transpile\n",
    "from qiskit.providers.ibmq import least_busy\n",
    "from qiskit.tools.monitor import job_monitor\n",
    "from qiskit.visualization import plot_histogram"
   ]
  },
  {
   "cell_type": "code",
   "execution_count": 2,
   "id": "3b3f7bd9",
   "metadata": {},
   "outputs": [
    {
     "name": "stdout",
     "output_type": "stream",
     "text": [
      "3\n"
     ]
    }
   ],
   "source": [
    "n = int(input()) # set the length of the n-bit input string"
   ]
  },
  {
   "cell_type": "markdown",
   "id": "e1f077a6",
   "metadata": {},
   "source": [
    "# Constant Oracle\n",
    "\n",
    "Input has no effect on Output, so just set the output to be 0 or 1"
   ]
  },
  {
   "cell_type": "code",
   "execution_count": 3,
   "id": "a1cba683",
   "metadata": {},
   "outputs": [
    {
     "data": {
      "image/png": "[encoded data removed]",
      "text/plain": [
       "<Figure size 116.697x264.88 with 1 Axes>"
      ]
     },
     "execution_count": 3,
     "metadata": {},
     "output_type": "execute_result"
    }
   ],
   "source": [
    "const_oracle = QuantumCircuit(n+1)\n",
    "\n",
    "output = np.random.randint(2)\n",
    "if output == 1:\n",
    "    const_oracle.x(n)\n",
    "\n",
    "const_oracle.draw()"
   ]
  },
  {
   "cell_type": "markdown",
   "id": "28d48a76",
   "metadata": {},
   "source": [
    "# Balanced Oracle\n",
    "\n",
    "Created by performing CNOTs with each input qubit as a control and the output bit as the target. Vary the input states that give 0 or 1 by wrapping some of the controls in X-gates"
   ]
  },
  {
   "cell_type": "code",
   "execution_count": 4,
   "id": "0c889467",
   "metadata": {},
   "outputs": [],
   "source": [
    "balanced_oracle = QuantumCircuit(n+1)"
   ]
  },
  {
   "cell_type": "code",
   "execution_count": 5,
   "id": "299faf67",
   "metadata": {},
   "outputs": [
    {
     "name": "stdout",
     "output_type": "stream",
     "text": [
      "Enter a string of length  3\n",
      "101\n"
     ]
    }
   ],
   "source": [
    "print('Enter a string of length ', n)\n",
    "\n",
    "b_str = input()"
   ]
  },
  {
   "cell_type": "markdown",
   "id": "d666101a",
   "metadata": {},
   "source": [
    "Use this string as a key to place our X-gates\n",
    "\n",
    "For each qubit in our circuit place an X-gate if the corresponding digit is 1, or do nothing if the digit is 0"
   ]
  },
  {
   "cell_type": "code",
   "execution_count": 6,
   "id": "ac014f3b",
   "metadata": {},
   "outputs": [
    {
     "data": {
      "image/png": "[encoded data removed]",
      "text/plain": [
       "<Figure size 146.797x264.88 with 1 Axes>"
      ]
     },
     "execution_count": 6,
     "metadata": {},
     "output_type": "execute_result"
    }
   ],
   "source": [
    "for qubit in range(len(b_str)):\n",
    "    if b_str[qubit] == '1':\n",
    "        balanced_oracle.x(qubit) # Place X-gates\n",
    "\n",
    "balanced_oracle.draw()"
   ]
  },
  {
   "cell_type": "markdown",
   "id": "9fdef2ce",
   "metadata": {},
   "source": [
    "Do our controlled-NOT gates using each input qubit as a control and the output qubit as a target"
   ]
  },
  {
   "cell_type": "code",
   "execution_count": 7,
   "id": "810dcb71",
   "metadata": {},
   "outputs": [
    {
     "data": {
      "image/png": "[encoded data removed]",
      "text/plain": [
       "<Figure size 507.997x264.88 with 1 Axes>"
      ]
     },
     "execution_count": 7,
     "metadata": {},
     "output_type": "execute_result"
    }
   ],
   "source": [
    "balanced_oracle.barrier() # Use barrier as divider\n",
    "\n",
    "# Controlled-NOT gates\n",
    "for qubit in range(n):\n",
    "    balanced_oracle.cx(qubit, n)\n",
    "\n",
    "balanced_oracle.barrier()\n",
    "balanced_oracle.draw()\n",
    "\n",
    "for qubit in range(len(b_str)):\n",
    "    if b_str[qubit] == '1':\n",
    "        balanced_oracle.x(qubit) # Place X-gates\n",
    "\n",
    "balanced_oracle.draw() # Show oracle"
   ]
  },
  {
   "cell_type": "markdown",
   "id": "20232cf5",
   "metadata": {},
   "source": [
    "# Full algorithm\n",
    "\n",
    "This first step in the algorithm is to initialize the input qubits in the state |+⟩ and the output qubit in the state |−⟩"
   ]
  },
  {
   "cell_type": "code",
   "execution_count": 8,
   "id": "908d2035",
   "metadata": {},
   "outputs": [
    {
     "data": {
      "image/png": "[encoded data removed]",
      "text/plain": [
       "<Figure size 206.997x325.08 with 1 Axes>"
      ]
     },
     "execution_count": 8,
     "metadata": {},
     "output_type": "execute_result"
    }
   ],
   "source": [
    "dj_circuit = QuantumCircuit(n+1, n)\n",
    "\n",
    "for qubit in range(n):\n",
    "    dj_circuit.h(qubit) # Apply H-gates\n",
    "\n",
    "# Put qubit in state |->\n",
    "dj_circuit.x(n)\n",
    "dj_circuit.h(n)\n",
    "dj_circuit.draw()"
   ]
  },
  {
   "cell_type": "markdown",
   "id": "957caab9",
   "metadata": {},
   "source": [
    "## Applying balanced Oracle"
   ]
  },
  {
   "cell_type": "code",
   "execution_count": 9,
   "id": "9c1faa60",
   "metadata": {},
   "outputs": [
    {
     "name": "stderr",
     "output_type": "stream",
     "text": [
      "<ipython-input-9-c26838fd185f>:1: DeprecationWarning: The QuantumCircuit.__iadd__() method is being deprecated. Use the compose() (potentially with the inplace=True argument) and tensor() methods which are more flexible w.r.t circuit register compatibility.\n",
      "  dj_circuit += balanced_oracle\n",
      "/opt/conda/lib/python3.8/site-packages/qiskit/circuit/quantumcircuit.py:876: DeprecationWarning: The QuantumCircuit.extend() method is being deprecated. Use the compose() (potentially with the inplace=True argument) and tensor() methods which are more flexible w.r.t circuit register compatibility.\n",
      "  return self.extend(rhs)\n"
     ]
    },
    {
     "data": {
      "image/png": "[encoded data removed]",
      "text/plain": [
       "<Figure size 568.197x325.08 with 1 Axes>"
      ]
     },
     "execution_count": 9,
     "metadata": {},
     "output_type": "execute_result"
    }
   ],
   "source": [
    "dj_circuit += balanced_oracle\n",
    "dj_circuit.draw()"
   ]
  },
  {
   "cell_type": "markdown",
   "id": "fe48deb2",
   "metadata": {},
   "source": [
    "Perform H-gates on the n-input qubits and measure our input register"
   ]
  },
  {
   "cell_type": "code",
   "execution_count": 10,
   "id": "6a5f8382",
   "metadata": {},
   "outputs": [
    {
     "data": {
      "image/png": "[encoded data removed]",
      "text/plain": [
       "<Figure size 869.197x325.08 with 1 Axes>"
      ]
     },
     "execution_count": 10,
     "metadata": {},
     "output_type": "execute_result"
    }
   ],
   "source": [
    "for qubit in range(n):\n",
    "    dj_circuit.h(qubit) # Repeat H-gates\n",
    "dj_circuit.barrier()\n",
    "\n",
    "for i in range(n):\n",
    "    dj_circuit.measure(i, i) # Measure\n",
    "\n",
    "dj_circuit.draw() # Display circuit"
   ]
  },
  {
   "cell_type": "code",
   "execution_count": 11,
   "id": "f6579c95",
   "metadata": {},
   "outputs": [
    {
     "data": {
      "image/png": "[encoded data removed]",
      "text/plain": [
       "<Figure size 504x360 with 1 Axes>"
      ]
     },
     "execution_count": 11,
     "metadata": {},
     "output_type": "execute_result"
    }
   ],
   "source": [
    "# Output on local simulator\n",
    "qasm_sim = Aer.get_backend('qasm_simulator')\n",
    "shots = 1024\n",
    "qobj = assemble(dj_circuit, qasm_sim)\n",
    "results = qasm_sim.run(qobj).result()\n",
    "answer = results.get_counts()\n",
    "\n",
    "plot_histogram(answer)"
   ]
  },
  {
   "cell_type": "markdown",
   "id": "47ab6b2a",
   "metadata": {},
   "source": [
    "0% chance of measuring 000. This shows the function is balanced with 100% accuracy\n",
    "\n",
    "# Creating generalised circuits\n",
    "\n",
    "Create Deutsch-Jozsa Oracles and turn them into Quantum gates"
   ]
  },
  {
   "cell_type": "code",
   "execution_count": 12,
   "id": "d2313935",
   "metadata": {},
   "outputs": [],
   "source": [
    "def dj_oracle(case, n):\n",
    "    oracle_qc = QuantumCircuit(n+1)\n",
    "    \n",
    "    if case == \"balanced\":\n",
    "        b = np.random.randint(1,2**n) # random number that tells us which CNOTs to wrap in X-gates\n",
    "        b_str = format(b, '0'+str(n)+'b') # format 'b' as a binary string of length 'n' padded with zeros\n",
    "        for qubit in range(len(b_str)):\n",
    "            if b_str[qubit] == '1':\n",
    "                oracle_qc.x(qubit) # apply an X-gate to that qubit\n",
    "        \n",
    "        for qubit in range(n):\n",
    "            oracle_qc.cx(qubit, n) # Controlled-NOT gates for each qubit, using the output qubit as the target\n",
    "        \n",
    "        for qubit in range(len(b_str)):\n",
    "            if b_str[qubit] == '1':\n",
    "                oracle_qc.x(qubit) # Place the final X-gates\n",
    "\n",
    "    if case == \"constant\":\n",
    "        output = np.random.randint(2)\n",
    "        if output == 1:\n",
    "            oracle_qc.x(n)\n",
    "    \n",
    "    oracle_gate = oracle_qc.to_gate()\n",
    "    oracle_gate.name = \"Oracle\" # Show when we display the circuit\n",
    "    \n",
    "    return oracle_gate"
   ]
  },
  {
   "cell_type": "markdown",
   "id": "51a6a123",
   "metadata": {},
   "source": [
    "# Create a function that takes this Oracle gate and perform the algorithm on it"
   ]
  },
  {
   "cell_type": "code",
   "execution_count": 13,
   "id": "b004d928",
   "metadata": {},
   "outputs": [],
   "source": [
    "def dj_algorithm(oracle, n):\n",
    "    dj_circuit = QuantumCircuit(n+1, n)\n",
    "    \n",
    "    # Set up the output qubit\n",
    "    dj_circuit.x(n)\n",
    "    dj_circuit.h(n)\n",
    "    \n",
    "    # Set up the input register:\n",
    "    for qubit in range(n):\n",
    "        dj_circuit.h(qubit)\n",
    "    \n",
    "    dj_circuit.append(oracle, range(n+1)) # Append the oracle gate to the circuit\n",
    "    for qubit in range(n):\n",
    "        dj_circuit.h(qubit) # Perform the H-gates\n",
    "    \n",
    "    for i in range(n):\n",
    "        dj_circuit.measure(i, i) # Measure\n",
    "    \n",
    "    return dj_circuit"
   ]
  },
  {
   "cell_type": "code",
   "execution_count": 14,
   "id": "c44ee8a8",
   "metadata": {},
   "outputs": [
    {
     "name": "stdout",
     "output_type": "stream",
     "text": [
      "3\n"
     ]
    },
    {
     "data": {
      "image/png": "[encoded data removed]",
      "text/plain": [
       "<Figure size 568.197x325.08 with 1 Axes>"
      ]
     },
     "execution_count": 14,
     "metadata": {},
     "output_type": "execute_result"
    }
   ],
   "source": [
    "n = int(input())\n",
    "oracle_gate = dj_oracle('balanced', n)\n",
    "dj_circuit = dj_algorithm(oracle_gate, n)\n",
    "dj_circuit.draw()"
   ]
  },
  {
   "cell_type": "code",
   "execution_count": 15,
   "id": "afaab58c",
   "metadata": {},
   "outputs": [
    {
     "data": {
      "image/png": "[encoded data removed]",
      "text/plain": [
       "<Figure size 504x360 with 1 Axes>"
      ]
     },
     "execution_count": 15,
     "metadata": {},
     "output_type": "execute_result"
    }
   ],
   "source": [
    "transpiled_dj_circuit = transpile(dj_circuit, qasm_sim)\n",
    "qobj = assemble(transpiled_dj_circuit)\n",
    "results = qasm_sim.run(qobj).result()\n",
    "answer = results.get_counts()\n",
    "\n",
    "plot_histogram(answer)"
   ]
  },
  {
   "cell_type": "markdown",
   "id": "256585c6",
   "metadata": {},
   "source": [
    "# Experimenting on Quantum device"
   ]
  },
  {
   "cell_type": "code",
   "execution_count": 16,
   "id": "f2fd7124",
   "metadata": {},
   "outputs": [
    {
     "name": "stdout",
     "output_type": "stream",
     "text": [
      "least busy backend:  ibmq_16_melbourne\n"
     ]
    }
   ],
   "source": [
    "IBMQ.load_account()\n",
    "\n",
    "provider = IBMQ.get_provider(hub='ibm-q')\n",
    "backend = least_busy(provider.backends(\n",
    "    filters=lambda x: x.configuration().n_qubits >= (n+1) and not x.configuration().simulator and x.status().operational==True))\n",
    "\n",
    "print(\"least busy backend: \", backend)"
   ]
  },
  {
   "cell_type": "code",
   "execution_count": 17,
   "id": "18349e1d",
   "metadata": {},
   "outputs": [
    {
     "name": "stderr",
     "output_type": "stream",
     "text": [
      "<ipython-input-17-37cd63fd1a3a>:4: DeprecationWarning: Passing a Qobj to Backend.run is deprecated and will be removed in a future release. Please pass in circuits or pulse schedules instead.\n",
      "  job = backend.run(qobj)\n"
     ]
    },
    {
     "name": "stdout",
     "output_type": "stream",
     "text": [
      "Job Status: job has successfully run\n"
     ]
    }
   ],
   "source": [
    "shots = 1024\n",
    "transpiled_dj_circuit = transpile(dj_circuit, backend, optimization_level=3)\n",
    "qobj = assemble(transpiled_dj_circuit, backend)\n",
    "job = backend.run(qobj)\n",
    "\n",
    "job_monitor(job, interval=2)"
   ]
  },
  {
   "cell_type": "code",
   "execution_count": 18,
   "id": "4726cb4f",
   "metadata": {},
   "outputs": [
    {
     "data": {
      "image/png": "[encoded data removed]",
      "text/plain": [
       "<Figure size 504x360 with 1 Axes>"
      ]
     },
     "execution_count": 18,
     "metadata": {},
     "output_type": "execute_result"
    }
   ],
   "source": [
    "results = job.result()\n",
    "answer = results.get_counts()\n",
    "\n",
    "plot_histogram(answer)"
   ]
  }
 ],
 "metadata": {
  "kernelspec": {
   "display_name": "Python 3",
   "language": "python",
   "name": "python3"
  },
  "language_info": {
   "codemirror_mode": {
    "name": "ipython",
    "version": 3
   },
   "file_extension": ".py",
   "mimetype": "text/x-python",
   "name": "python",
   "nbconvert_exporter": "python",
   "pygments_lexer": "ipython3",
   "version": "3.8.8"
  }
 },
 "nbformat": 4,
 "nbformat_minor": 5
}
