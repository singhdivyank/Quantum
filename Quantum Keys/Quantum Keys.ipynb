{
 "cells": [
  {
   "cell_type": "code",
   "execution_count": 1,
   "id": "fc0c6bf0",
   "metadata": {},
   "outputs": [],
   "source": [
    "import numpy as np\n",
    "\n",
    "from qiskit import QuantumCircuit, transpile, Aer, assemble\n",
    "from qiskit.visualization import plot_histogram, plot_bloch_multivector\n",
    "from numpy.random import randint"
   ]
  },
  {
   "cell_type": "markdown",
   "id": "47d32930",
   "metadata": {},
   "source": [
    "# Protocol overview\n",
    "\n",
    "Alice prepares a qubit in the state |+⟩ and Bob measures it in X basis"
   ]
  },
  {
   "cell_type": "code",
   "execution_count": 2,
   "id": "1c5eb629",
   "metadata": {},
   "outputs": [
    {
     "data": {
      "image/png": "[encoded data removed]",
      "text/plain": [
       "<Figure size 314.126x144.48 with 1 Axes>"
      ]
     },
     "metadata": {},
     "output_type": "display_data"
    },
    {
     "data": {
      "image/png": "[encoded data removed]",
      "text/plain": [
       "<Figure size 504x360 with 1 Axes>"
      ]
     },
     "execution_count": 2,
     "metadata": {},
     "output_type": "execute_result"
    }
   ],
   "source": [
    "qc = QuantumCircuit(1,1) # Alice prepares qubit in state |+>\n",
    "qc.h(0)\n",
    "qc.barrier()\n",
    "\n",
    "# Bob measures in X basis\n",
    "qc.h(0)\n",
    "qc.measure(0,0)\n",
    "\n",
    "display(qc.draw())\n",
    "\n",
    "qasm_sim = Aer.get_backend('qasm_simulator')\n",
    "job = qasm_sim.run(assemble(qc))\n",
    "plot_histogram(job.result().get_counts())"
   ]
  },
  {
   "cell_type": "markdown",
   "id": "e3c19536",
   "metadata": {},
   "source": [
    "**He measures 0**\n",
    "\n",
    "Now Eve eavesdrops and measures in Z basis, the output would change to |0⟩ or |1⟩"
   ]
  },
  {
   "cell_type": "code",
   "execution_count": 3,
   "id": "e21c86ce",
   "metadata": {},
   "outputs": [
    {
     "data": {
      "image/png": "[encoded data removed]",
      "text/plain": [
       "<Figure size 374.326x144.48 with 1 Axes>"
      ]
     },
     "metadata": {},
     "output_type": "display_data"
    },
    {
     "data": {
      "image/png": "[encoded data removed]",
      "text/plain": [
       "<Figure size 504x360 with 1 Axes>"
      ]
     },
     "execution_count": 3,
     "metadata": {},
     "output_type": "execute_result"
    }
   ],
   "source": [
    "qc = QuantumCircuit(1,1) # Alice prepares qubit in state |+>\n",
    "qc.h(0)# Alice now sends the qubit to Bob\n",
    "\n",
    "# Eve intercepts and tries to read it\n",
    "qc.measure(0, 0)\n",
    "qc.barrier()\n",
    "\n",
    "# Eve then passes this on to Bob who measures it in the X-basis\n",
    "qc.h(0)\n",
    "qc.measure(0,0)\n",
    "\n",
    "display(qc.draw())\n",
    "qasm_sim = Aer.get_backend('qasm_simulator')\n",
    "job = qasm_sim.run(assemble(qc))\n",
    "plot_histogram(job.result().get_counts())"
   ]
  },
  {
   "cell_type": "markdown",
   "id": "953948d2",
   "metadata": {},
   "source": [
    "This shows there is no certainity that bob will measure 0\n",
    "\n",
    "**If he measures 1, Bob an Alice would be aware of some trouble in their channel**\n",
    "\n",
    "# Implementing the protocol\n",
    "\n",
    "## Step1: Alice generates her qubits"
   ]
  },
  {
   "cell_type": "code",
   "execution_count": 4,
   "id": "6d3cfcc5",
   "metadata": {},
   "outputs": [
    {
     "name": "stdout",
     "output_type": "stream",
     "text": [
      "Enter value of n 100\n",
      "[0 0 1 1 0 0 0 1 1 1 0 1 1 1 0 1 1 0 0 0 0 1 1 0 0 0 1 0 0 0 0 1 0 1 1 0 1\n",
      " 0 0 1 1 0 0 1 0 1 0 1 1 1 1 0 1 0 0 1 1 1 0 0 0 1 0 0 0 1 0 0 1 1 0 0 1 1\n",
      " 1 0 1 1 1 1 1 1 0 1 0 0 1 1 0 1 0 0 0 0 0 1 1 0 1 1]\n"
     ]
    }
   ],
   "source": [
    "np.random.seed(seed=3)\n",
    "\n",
    "n = int(input('Enter value of n '))\n",
    "\n",
    "alice_bits = randint(2, size=n)\n",
    "print(alice_bits)"
   ]
  },
  {
   "cell_type": "markdown",
   "id": "9b3687df",
   "metadata": {},
   "source": [
    "## Step2: Alice encodes these in Z and X bases"
   ]
  },
  {
   "cell_type": "code",
   "execution_count": 5,
   "id": "eab9f83c",
   "metadata": {},
   "outputs": [],
   "source": [
    "# to encode the string of qubits\n",
    "\n",
    "def encode_message(bits, basis):\n",
    "    \n",
    "    message = []\n",
    "    for i in range(n):\n",
    "        qc = QuantumCircuit(1, 1)\n",
    "        # prepare in z basis\n",
    "        if basis[i] == 0:\n",
    "            if bits[i] == 0:\n",
    "                pass\n",
    "            else:\n",
    "                qc.x(0)\n",
    "        # prepare in x basis\n",
    "        else:\n",
    "            if bits[i] == 0:\n",
    "                qc.h(0)\n",
    "            else:\n",
    "                qc.x(0)\n",
    "                qc.h(0)\n",
    "        \n",
    "        qc.barrier()\n",
    "        message.append(qc)\n",
    "        \n",
    "    return message"
   ]
  },
  {
   "cell_type": "code",
   "execution_count": 6,
   "id": "08e341f4",
   "metadata": {},
   "outputs": [
    {
     "name": "stdout",
     "output_type": "stream",
     "text": [
      "[1 0 0 1 1 0 1 0 0 0 0 0 0 0 0 0 1 0 0 0 0 1 1 1 1 0 0 1 1 0 0 1 1 1 1 0 0\n",
      " 1 1 0 0 0 0 0 0 0 0 1 1 0 0 0 1 0 1 1 1 0 0 1 0 1 0 1 1 0 0 1 0 0 1 1 1 1\n",
      " 1 0 0 0 0 0 1 1 1 0 0 0 0 0 0 1 0 1 0 0 0 1 0 1 1 1]\n"
     ]
    }
   ],
   "source": [
    "np.random.seed(seed=3)\n",
    "\n",
    "alice_bits = randint(2, size=n) ## Step 1\n",
    "\n",
    "## Step 2\n",
    "alice_basis = randint(2, size=n)\n",
    "message = encode_message(alice_bits, alice_basis)\n",
    "\n",
    "print(alice_basis)"
   ]
  },
  {
   "cell_type": "code",
   "execution_count": 7,
   "id": "18e971ec",
   "metadata": {},
   "outputs": [
    {
     "data": {
      "image/png": "[encoded data removed]",
      "text/plain": [
       "<Figure size 193.726x144.48 with 1 Axes>"
      ]
     },
     "execution_count": 7,
     "metadata": {},
     "output_type": "execute_result"
    }
   ],
   "source": [
    "message[0].draw() # finding state of 1st qubit"
   ]
  },
  {
   "cell_type": "markdown",
   "id": "6dbe1332",
   "metadata": {},
   "source": [
    "First qubit is in the state |+⟩\n",
    "\n",
    "Since Alice sent the message using Eve's channel, where Eve intercepts and measures it"
   ]
  },
  {
   "cell_type": "code",
   "execution_count": 8,
   "id": "f5656255",
   "metadata": {},
   "outputs": [],
   "source": [
    "# applies corresponding measurnment and simulates the result\n",
    "\n",
    "def measure_message(message, basis):\n",
    "    \n",
    "    backend = Aer.get_backend('qasm_simulator')\n",
    "    measurements = []\n",
    "    for q in range(n):\n",
    "        # measuring in Z-basis\n",
    "        if basis[q] == 0:\n",
    "            message[q].measure(0,0)\n",
    "        \n",
    "        # measuring in X-basis\n",
    "        if basis[q] == 1:\n",
    "            message[q].h(0)\n",
    "            message[q].measure(0,0)\n",
    "        \n",
    "        qasm_sim = Aer.get_backend('qasm_simulator')\n",
    "        qobj = assemble(message[q], shots=1, memory=True)\n",
    "        result = qasm_sim.run(qobj).result()\n",
    "        measured_bit = int(result.get_memory()[0])\n",
    "        measurements.append(measured_bit)\n",
    "        \n",
    "    return measurements"
   ]
  },
  {
   "cell_type": "code",
   "execution_count": 9,
   "id": "c7b21a1e",
   "metadata": {},
   "outputs": [
    {
     "name": "stdout",
     "output_type": "stream",
     "text": [
      "[0, 0, 0, 0, 0, 0, 1, 0, 1, 1, 0, 1, 1, 1, 0, 1, 0, 0, 0, 0, 1, 1, 1, 0, 0, 0, 1, 0, 0, 0, 0, 1, 1, 1, 1, 0, 1, 1, 0, 1, 1, 0, 0, 1, 1, 0, 1, 0, 1, 1, 1, 1, 1, 1, 0, 0, 0, 0, 0, 0, 0, 0, 1, 1, 0, 1, 0, 1, 1, 1, 1, 0, 1, 1, 0, 0, 1, 1, 1, 0, 1, 1, 0, 0, 0, 0, 1, 1, 0, 1, 1, 0, 0, 0, 0, 1, 1, 1, 1, 1]\n"
     ]
    }
   ],
   "source": [
    "np.random.seed(seed=3)\n",
    "\n",
    "alice_bits = randint(2, size=n) ## Step 1\n",
    "\n",
    "## Step 2\n",
    "alice_basis = randint(2, size=n)\n",
    "message = encode_message(alice_bits, alice_basis)\n",
    "\n",
    "## Interception\n",
    "eve_basis = randint(2, size=n)\n",
    "intercepted_message = measure_message(message, eve_basis)\n",
    "\n",
    "print(intercepted_message)"
   ]
  },
  {
   "cell_type": "code",
   "execution_count": 10,
   "id": "6f5f77af",
   "metadata": {},
   "outputs": [
    {
     "data": {
      "image/png": "[encoded data removed]",
      "text/plain": [
       "<Figure size 253.926x144.48 with 1 Axes>"
      ]
     },
     "execution_count": 10,
     "metadata": {},
     "output_type": "execute_result"
    }
   ],
   "source": [
    "message[0].draw()"
   ]
  },
  {
   "cell_type": "markdown",
   "id": "6cbaa7ee",
   "metadata": {},
   "source": [
    "Eve's choice of basis was not the same as Alice's, this changes the qubit state from |+⟩ to a state in Z basis where there is a 50% probability of |0⟩ or |1⟩\n",
    "\n",
    "## Step3: Eve passes message to Bob\n",
    "\n",
    "**Bob measures in same basis as Alice**"
   ]
  },
  {
   "cell_type": "code",
   "execution_count": 11,
   "id": "81ac4ba3",
   "metadata": {},
   "outputs": [],
   "source": [
    "np.random.seed(seed=3)\n",
    "\n",
    "alice_bits = randint(2, size=n) ## Step 1\n",
    "\n",
    "## Step 2\n",
    "alice_basis = randint(2, size=n)\n",
    "message = encode_message(alice_bits, alice_basis)\n",
    "\n",
    "## Interception\n",
    "eve_basis = randint(2, size=n)\n",
    "intercepted_message = measure_message(message, eve_basis)\n",
    "\n",
    "## Step 3\n",
    "bob_basis = randint(2, size=n)\n",
    "bob_results = measure_message(message, bob_basis)"
   ]
  },
  {
   "cell_type": "code",
   "execution_count": 12,
   "id": "c92c669e",
   "metadata": {},
   "outputs": [
    {
     "data": {
      "image/png": "[encoded data removed]",
      "text/plain": [
       "<Figure size 374.326x144.48 with 1 Axes>"
      ]
     },
     "execution_count": 12,
     "metadata": {},
     "output_type": "execute_result"
    }
   ],
   "source": [
    "message[0].draw()"
   ]
  },
  {
   "cell_type": "markdown",
   "id": "d587a91f",
   "metadata": {},
   "source": [
    "Due to interception Bob has a 50% chance of measuring 1 instead of always measuring 0\n",
    "\n",
    "## Step4: Alice and Bob reveal their best basis and discard the others"
   ]
  },
  {
   "cell_type": "code",
   "execution_count": 13,
   "id": "e7ab4cc3",
   "metadata": {},
   "outputs": [],
   "source": [
    "# function to discard useless basis\n",
    "\n",
    "def remove_garbage(a_basis, b_basis, bits):\n",
    "    good_bits = []\n",
    "    for q in range(n):\n",
    "        if a_basis[q] == b_basis[q]:\n",
    "            good_bits.append(bits[q]) # If both used the same basis, add to the list of 'good' bits\n",
    "    \n",
    "    return good_bits"
   ]
  },
  {
   "cell_type": "code",
   "execution_count": 14,
   "id": "d9849369",
   "metadata": {},
   "outputs": [],
   "source": [
    "np.random.seed(seed=3)\n",
    "\n",
    "alice_bits = randint(2, size=n) ## Step 1\n",
    "\n",
    "## Step 2\n",
    "alice_basis = randint(2, size=n)\n",
    "message = encode_message(alice_bits, alice_basis)\n",
    "\n",
    "## Interception\n",
    "eve_bases = randint(2, size=n)\n",
    "intercepted_message = measure_message(message, eve_basis)\n",
    "\n",
    "## Step 3\n",
    "bob_basis = randint(2, size=n)\n",
    "bob_results = measure_message(message, bob_basis)\n",
    "\n",
    "## Step 4\n",
    "bob_key = remove_garbage(alice_basis, bob_basis, bob_results)\n",
    "alice_key = remove_garbage(alice_basis, bob_basis, alice_bits)"
   ]
  },
  {
   "cell_type": "code",
   "execution_count": 15,
   "id": "7918c727",
   "metadata": {},
   "outputs": [],
   "source": [
    "def sample_bits(bits, selection):\n",
    "    sample = []\n",
    "    for i in selection:\n",
    "        i = np.mod(i, len(bits)) # To make sure the bit we sample is always in the list range\n",
    "        sample.append(bits.pop(i)) # pop(i) removes the element of the list at index 'i'\n",
    "        \n",
    "    return sample"
   ]
  },
  {
   "cell_type": "code",
   "execution_count": 16,
   "id": "7625955a",
   "metadata": {},
   "outputs": [
    {
     "name": "stdout",
     "output_type": "stream",
     "text": [
      "Sample size: 15\n",
      "bob_sample = [1, 1, 0, 0, 1, 1, 0, 1, 1, 0, 0, 1, 0, 0, 0]\n",
      "alice_sample = [1, 1, 0, 0, 1, 0, 0, 0, 0, 0, 0, 1, 0, 0, 0]\n"
     ]
    }
   ],
   "source": [
    "np.random.seed(seed=3)\n",
    "\n",
    "alice_bits = randint(2, size=n) ## Step 1\n",
    "\n",
    "## Step 2\n",
    "alice_basis = randint(2, size=n)\n",
    "message = encode_message(alice_bits, alice_basis)\n",
    "\n",
    "## Interception\n",
    "eve_basis = randint(2, size=n)\n",
    "intercepted_message = measure_message(message, eve_basis)\n",
    "\n",
    "## Step 3\n",
    "bob_bases = randint(2, size=n)\n",
    "bob_results = measure_message(message, bob_basis)\n",
    "\n",
    "## Step 4\n",
    "bob_key = remove_garbage(alice_basis, bob_basis, bob_results)\n",
    "alice_key = remove_garbage(alice_basis, bob_basis, alice_bits)\n",
    "\n",
    "## Step 5\n",
    "sample_size = int(input('Sample size: '))\n",
    "bit_selection = randint(n, size=sample_size)\n",
    "bob_sample = sample_bits(bob_key, bit_selection)\n",
    "\n",
    "print(\"bob_sample = \" + str(bob_sample))\n",
    "alice_sample = sample_bits(alice_key, bit_selection)\n",
    "print(\"alice_sample = \"+ str(alice_sample))"
   ]
  },
  {
   "cell_type": "code",
   "execution_count": 17,
   "id": "3f8d8441",
   "metadata": {},
   "outputs": [
    {
     "data": {
      "text/plain": [
       "False"
      ]
     },
     "execution_count": 17,
     "metadata": {},
     "output_type": "execute_result"
    }
   ],
   "source": [
    "bob_sample==alice_sample"
   ]
  },
  {
   "cell_type": "markdown",
   "id": "ef66e1e6",
   "metadata": {},
   "source": [
    "All the keys do not match because Eve intercepted and tried to chang the qubit states. The have to throw away all the results and try again.\n",
    "\n",
    "# Proof of interception"
   ]
  },
  {
   "cell_type": "code",
   "execution_count": 18,
   "id": "512450da",
   "metadata": {},
   "outputs": [
    {
     "name": "stdout",
     "output_type": "stream",
     "text": [
      "Eve's interference was detected.\n"
     ]
    }
   ],
   "source": [
    "#Step 1\n",
    "alice_bits = randint(2, size=n)\n",
    "alice_basis = randint(2, size=n)\n",
    "\n",
    "message = encode_message(alice_bits, alice_basis) # Step 2\n",
    "\n",
    "# Interception!\n",
    "eve_basis = randint(2, size=n)\n",
    "intercepted_message = measure_message(message, eve_basis)\n",
    "\n",
    "# Step 3\n",
    "bob_basis = randint(2, size=n)\n",
    "bob_results = measure_message(message, bob_basis)\n",
    "\n",
    "# Step 4\n",
    "bob_key = remove_garbage(alice_basis, bob_basis, bob_results)\n",
    "alice_key = remove_garbage(alice_basis, bob_basis, alice_bits)\n",
    "\n",
    "# Step 5\n",
    "bit_selection = randint(n, size=sample_size)\n",
    "bob_sample = sample_bits(bob_key, bit_selection)\n",
    "alice_sample = sample_bits(alice_key, bit_selection)\n",
    "\n",
    "if bob_sample != alice_sample:\n",
    "    print(\"Eve's interference was detected.\")\n",
    "else:\n",
    "    print(\"Eve went undetected!\")"
   ]
  }
 ],
 "metadata": {
  "kernelspec": {
   "display_name": "Python 3",
   "language": "python",
   "name": "python3"
  },
  "language_info": {
   "codemirror_mode": {
    "name": "ipython",
    "version": 3
   },
   "file_extension": ".py",
   "mimetype": "text/x-python",
   "name": "python",
   "nbconvert_exporter": "python",
   "pygments_lexer": "ipython3",
   "version": "3.8.8"
  }
 },
 "nbformat": 4,
 "nbformat_minor": 5
}
