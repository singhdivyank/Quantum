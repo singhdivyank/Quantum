{
 "cells": [
  {
   "cell_type": "code",
   "execution_count": 1,
   "id": "e9ecf05c",
   "metadata": {},
   "outputs": [],
   "source": [
    "from qiskit import Aer, assemble, IBMQ, transpile, QuantumCircuit\n",
    "from qiskit.visualization import plot_histogram"
   ]
  },
  {
   "cell_type": "markdown",
   "id": "b57068e7",
   "metadata": {},
   "source": [
    "The classical bits are considered to be a and b\n",
    "\n",
    "# Step1: Create entangled pair"
   ]
  },
  {
   "cell_type": "code",
   "execution_count": 2,
   "id": "deaeb724",
   "metadata": {},
   "outputs": [],
   "source": [
    "def create_bell_pair(qc, a, b):\n",
    "    qc.h(a) # hadamard gate on first qubit\n",
    "    qc.cx(a, b) # H gate followed by CNOT gate"
   ]
  },
  {
   "cell_type": "markdown",
   "id": "4becda7d",
   "metadata": {},
   "source": [
    "# Step2: Sharing the bits\n",
    "\n",
    "There are only four possible bits Charlie can share with Alice - 00, 01, 10 and 11\n",
    "\n",
    "# Step3: Encode the message"
   ]
  },
  {
   "cell_type": "code",
   "execution_count": 3,
   "id": "cfa58e92",
   "metadata": {},
   "outputs": [],
   "source": [
    "def encode(qc, qubit, msg):\n",
    "    if msg == \"00\":\n",
    "        pass # do nothing for 00\n",
    "    elif msg == \"01\":\n",
    "        qc.z(qubit) # apply Z gate for 01\n",
    "    elif msg == \"10\":\n",
    "        qc.x(qubit) # apply X gate for 10\n",
    "    elif msg == \"11\":\n",
    "        # apply ZX gate on 11\n",
    "        qc.z(qubit) # apply Z\n",
    "        qc.x(qubit) # on resultant qubit apply X\n",
    "    else:\n",
    "        print(\"Invalid message\")"
   ]
  },
  {
   "cell_type": "markdown",
   "id": "b62a363a",
   "metadata": {},
   "source": [
    "# Step4 : Sending the bits\n",
    "\n",
    "After encoding the message Alice sends the bits to Bob\n",
    "\n",
    "# Step5: Decoding"
   ]
  },
  {
   "cell_type": "code",
   "execution_count": 4,
   "id": "25285c8b",
   "metadata": {},
   "outputs": [],
   "source": [
    "def decode(qc, a, b):\n",
    "    qc.cx(a, b) # CNOT gate\n",
    "    qc.h(a) # H gate followed by CNOT"
   ]
  },
  {
   "cell_type": "markdown",
   "id": "fcbf5692",
   "metadata": {},
   "source": [
    "# Completing the protocol"
   ]
  },
  {
   "cell_type": "code",
   "execution_count": 5,
   "id": "3c0f569b",
   "metadata": {},
   "outputs": [
    {
     "name": "stdout",
     "output_type": "stream",
     "text": [
      "Enter message 10\n"
     ]
    },
    {
     "data": {
      "image/png": "[encoded data removed]",
      "text/plain": [
       "<Figure size 718.879x204.68 with 1 Axes>"
      ]
     },
     "execution_count": 5,
     "metadata": {},
     "output_type": "execute_result"
    }
   ],
   "source": [
    "qc = QuantumCircuit(2) # create the circuit with 2 qubits\n",
    "\n",
    "# charlie creates the entangled pair\n",
    "create_bell_pair(qc, 0, 1)\n",
    "qc.barrier() # adds a barrier to the circuit\n",
    "\n",
    "# At this instance qubit 0 goes to Alice and 1 goes to Bob\n",
    "\n",
    "message = input(\"Enter message \") # enter the message\n",
    "\n",
    "encode(qc, 0, message) # Alice encodes her message\n",
    "qc.barrier()\n",
    "\n",
    "# Qubit send to Bob\n",
    "\n",
    "decode(qc, 0, 1) # Bob applies recovery protocol\n",
    "qc.measure_all() # Measure the qubits to read Alice's message\n",
    "\n",
    "qc.draw()"
   ]
  },
  {
   "cell_type": "markdown",
   "id": "b4997279",
   "metadata": {},
   "source": [
    "# Visualising the measurement"
   ]
  },
  {
   "cell_type": "code",
   "execution_count": 6,
   "id": "4383039d",
   "metadata": {},
   "outputs": [
    {
     "name": "stdout",
     "output_type": "stream",
     "text": [
      "{'10': 1024}\n"
     ]
    },
    {
     "data": {
      "image/png": "[encoded data removed]",
      "text/plain": [
       "<Figure size 504x360 with 1 Axes>"
      ]
     },
     "execution_count": 6,
     "metadata": {},
     "output_type": "execute_result"
    }
   ],
   "source": [
    "qasm_sim = Aer.get_backend('qasm_simulator')\n",
    "qobj = assemble(qc)\n",
    "result = qasm_sim.run(qobj).result()\n",
    "counts = result.get_counts(qc)\n",
    "\n",
    "print(counts)\n",
    "\n",
    "plot_histogram(counts)"
   ]
  },
  {
   "cell_type": "markdown",
   "id": "1e89239a",
   "metadata": {},
   "source": [
    "The chance of measuring the correct message is 100%"
   ]
  }
 ],
 "metadata": {
  "kernelspec": {
   "display_name": "Python 3",
   "language": "python",
   "name": "python3"
  },
  "language_info": {
   "codemirror_mode": {
    "name": "ipython",
    "version": 3
   },
   "file_extension": ".py",
   "mimetype": "text/x-python",
   "name": "python",
   "nbconvert_exporter": "python",
   "pygments_lexer": "ipython3",
   "version": "3.8.8"
  }
 },
 "nbformat": 4,
 "nbformat_minor": 5
}
